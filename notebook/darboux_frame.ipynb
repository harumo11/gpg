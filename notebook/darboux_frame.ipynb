{
 "cells": [
  {
   "cell_type": "code",
   "execution_count": 8,
   "id": "c394d2ef",
   "metadata": {},
   "outputs": [],
   "source": [
    "import open3d as o3d\n",
    "import numpy as np"
   ]
  },
  {
   "cell_type": "code",
   "execution_count": 9,
   "id": "406b48bd",
   "metadata": {},
   "outputs": [],
   "source": [
    "def compute_darboux_frame_for_points(pcd: o3d.geometry.PointCloud, sample_points: o3d.geometry.PointCloud, search_radius: float = 0.02):\n",
    "    \"\"\"\n",
    "    Compute the Darboux frame for each point in pcd using sample_points.\n",
    "\n",
    "    Parameters\n",
    "    ----------\n",
    "    pcd : o3d.geometry.PointCloud\n",
    "        The point cloud for which to compute the Darboux frame.\n",
    "    sample_points : o3d.geometry.PointCloud\n",
    "        The point cloud used for sampling to compute the Darboux frame.\n",
    "    search_radius : float, optional\n",
    "        The radius for neighborhood search used in PCA, by default 0.02[m].\n",
    "    \n",
    "    Returns\n",
    "    -------\n",
    "    darboux_frames : list\n",
    "        A list of rotation matrices representing the Darboux frame for each point in pcd.\n",
    "    \"\"\"\n",
    "\n",
    "    kdtree = o3d.geometry.KDTreeFlann(pcd)\n",
    "    points = np.asarray(pcd.points)\n",
    "    sampled = np.asarray(sample_points.points)\n",
    "    rotation_matrices = []\n",
    "    frames = []\n",
    "\n",
    "    for p in sampled:\n",
    "        [k, idx, _] = kdtree.search_radius_vector_3d(p, search_radius)\n",
    "        if k < 3:\n",
    "            frames.append(None) # Not enough neighbors to compute the frame\n",
    "            print(f'||| warn: Point {p} has less than 3 neighbors, skipping.')\n",
    "            continue\n",
    "\n",
    "        neighbors = points[idx]\n",
    "        # Compute the covariance matrix(centered)\n",
    "        centered = neighbors - np.mean(neighbors, axis=0)\n",
    "        cov = centered.T @ centered\n",
    "\n",
    "        # Compute the eigenvalues(ascending order) and eigenvectors(normalized) \n",
    "        eigvals, eigvecs = np.linalg.eigh(cov)\n",
    "\n",
    "        # Define the Darboux frame\n",
    "        normal = eigvecs[:, 0] # Normal (Minimum eigenvalue)\n",
    "        tangent1 = eigvecs[:, 2] # Principal curvature direction (Maximum eigenvalue)\n",
    "        tangent2 = eigvecs[:, 1] # The other principal curvature direction (Middle eigenvalue)\n",
    "\n",
    "        # Ensure normal looks to origin (assuming the sensor is at the origin (0, 0, 0))\n",
    "        if np.dot(normal, p) < 0:\n",
    "            normal = -normal\n",
    "\n",
    "        # Ensure right-handed coordinate system\n",
    "        if np.dot(np.cross(tangent1, tangent2), normal) < 0:\n",
    "            tangent2 = -tangent2 # return tangent2 to become right-handedness\n",
    "\n",
    "        # Create the rotation matrix\n",
    "        rotation_matrix = np.column_stack((tangent1, tangent2, normal)) # x, y, z axes\n",
    "        T = np.eye(4)\n",
    "        T[:3, :3] = rotation_matrix\n",
    "        T[:3, 3] = p # Set the translation to the point p\n",
    "        frames.append(T)\n",
    "\n",
    "    return frames"
   ]
  },
  {
   "cell_type": "code",
   "execution_count": 10,
   "id": "a6b0efff",
   "metadata": {},
   "outputs": [],
   "source": [
    "# load point cloud\n",
    "pcd = o3d.io.read_point_cloud('../data/segmented/remote_controller.ply')\n",
    "sampled_pcd = o3d.io.read_point_cloud('../data/segmented/remote_controller_random_sampled.ply')\n",
    "# compute the Darboux frame\n",
    "frames = compute_darboux_frame_for_points(pcd, sampled_pcd)"
   ]
  },
  {
   "cell_type": "code",
   "execution_count": 11,
   "id": "9fca284e",
   "metadata": {},
   "outputs": [],
   "source": [
    "# visualize\n",
    "visuals = []\n",
    "for T in frames:\n",
    "    if T is not None:\n",
    "        frame_axes = o3d.geometry.TriangleMesh.create_coordinate_frame(size=0.01)\n",
    "        #frame.rotate(R, center=(0, 0, 0))  # Rotate the frame to match the Darboux frame\n",
    "        frame_axes.transform(T)\n",
    "        visuals.append(frame_axes)\n",
    "origin = o3d.geometry.TriangleMesh.create_coordinate_frame(0.05)\n",
    "\n",
    "o3d.visualization.draw_geometries(visuals+[pcd]+[origin], window_name='Darboux Frame Visualization', mesh_show_back_face=True)"
   ]
  },
  {
   "cell_type": "code",
   "execution_count": 12,
   "id": "879e2d42",
   "metadata": {},
   "outputs": [],
   "source": [
    "from scipy.spatial.transform import Rotation as R"
   ]
  },
  {
   "cell_type": "code",
   "execution_count": 13,
   "id": "46b1f259",
   "metadata": {},
   "outputs": [],
   "source": [
    "def generate_hand_pose_candidates(base_frame: np.ndarray, y_offsets: np.ndarray | list, phi_angles: np.ndarray | list):\n",
    "    \"\"\"Generate grasp hand pose *h* by applying a grid of offsets/rotations to the base frame.\n",
    "\n",
    "    Parameters\n",
    "    ----------\n",
    "    base_frame : np.ndarray\n",
    "        Homogeneous transform that represents the Darboux frame located at the sample point.\n",
    "        Columns correnspond to **x (approach)**, **y (closing)**, **z (normal)**.\n",
    "    y_offsets : np.ndarray | list\n",
    "        Offsets along the y-axis (closing direction) to apply to the base frame.\n",
    "    phi_angles : np.ndarray | list\n",
    "        Angles in radians to rotate the base frame around the z-axis (normal direction).\n",
    "    \n",
    "    Returns\n",
    "    -------\n",
    "    list[np.ndarray]\n",
    "        List of homogeneous transforms representing the generated hand poses.\n",
    "\n",
    "    \"\"\"\n",
    "\n",
    "    y_offsets = np.asarray(y_offsets).astype(float)\n",
    "    phi_angles = np.asarray(phi_angles).astype(float)\n",
    "\n",
    "    hand_poses = []\n",
    "    for y_offset in y_offsets:\n",
    "        for phi in phi_angles:\n",
    "            transform = np.eye(4)\n",
    "            transform[:3, :3] = R.from_euler('z', phi).as_matrix()  # Rotate around z-axis\n",
    "            transform[:3, 3] = [0.0, y_offset, 0.0]\n",
    "            hand_pose_candidate = base_frame @ transform  # Apply the transformation to the base frame\n",
    "            hand_poses.append(hand_pose_candidate)\n",
    "    \n",
    "    return hand_poses\n"
   ]
  },
  {
   "cell_type": "code",
   "execution_count": 14,
   "id": "2f25d934",
   "metadata": {},
   "outputs": [],
   "source": [
    "y_grids = np.linspace(-0.02, 0.02, 8)  # y offsets for the hand pose\n",
    "phi_grids = np.linspace(-np.pi/2, np.pi/2, 8)  # phi angles for the hand pose\n",
    "poses = generate_hand_pose_candidates(frames[0], y_grids, phi_grids)\n",
    "\n",
    "for pose in poses:\n",
    "    frame_axes = o3d.geometry.TriangleMesh.create_coordinate_frame(size=0.01)\n",
    "    frame_axes.transform(pose)  # Transform the frame to the hand pose\n",
    "    visuals.append(frame_axes)\n",
    "o3d.visualization.draw_geometries(visuals+[pcd]+[origin], window_name='Hand Pose Candidates', mesh_show_back_face=True)"
   ]
  },
  {
   "cell_type": "code",
   "execution_count": 15,
   "id": "55b1ead2",
   "metadata": {},
   "outputs": [],
   "source": [
    "import pickle as pkl\n",
    "import os\n",
    "\n",
    "os.makedirs('../data/darboux_frames', exist_ok=True)\n",
    "with open('../data/darboux_frames/candidate_poses.pkl', 'wb') as f:\n",
    "    pkl.dump(poses, f)"
   ]
  },
  {
   "cell_type": "code",
   "execution_count": null,
   "id": "dd5b0bf8",
   "metadata": {},
   "outputs": [],
   "source": []
  }
 ],
 "metadata": {
  "kernelspec": {
   "display_name": ".venv",
   "language": "python",
   "name": "python3"
  },
  "language_info": {
   "codemirror_mode": {
    "name": "ipython",
    "version": 3
   },
   "file_extension": ".py",
   "mimetype": "text/x-python",
   "name": "python",
   "nbconvert_exporter": "python",
   "pygments_lexer": "ipython3",
   "version": "3.10.12"
  }
 },
 "nbformat": 4,
 "nbformat_minor": 5
}
