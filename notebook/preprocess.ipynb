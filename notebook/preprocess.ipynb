{
 "cells": [
  {
   "cell_type": "code",
   "execution_count": 1,
   "id": "a6a28afc",
   "metadata": {},
   "outputs": [
    {
     "name": "stdout",
     "output_type": "stream",
     "text": [
      "Jupyter environment detected. Enabling Open3D WebVisualizer.\n",
      "[Open3D INFO] WebRTC GUI backend enabled.\n",
      "[Open3D INFO] WebRTCWindowSystem: HTTP handshake server disabled.\n"
     ]
    }
   ],
   "source": [
    "import open3d as o3d"
   ]
  },
  {
   "cell_type": "code",
   "execution_count": 2,
   "id": "f2b19559",
   "metadata": {},
   "outputs": [],
   "source": [
    "file_name = 'desk_topview.ply'\n",
    "pcd = o3d.io.read_point_cloud('../data/'+file_name)\n",
    "o3d.visualization.draw_geometries([pcd])"
   ]
  },
  {
   "cell_type": "code",
   "execution_count": 3,
   "id": "297b62a2",
   "metadata": {},
   "outputs": [],
   "source": [
    "# display inliners and outliers with different colors\n",
    "def display_inliers_outliers(pcd, idx):\n",
    "    inlier_pcd = pcd.select_by_index(idx)\n",
    "    outlier_pcd = pcd.select_by_index(idx, invert=True)\n",
    "\n",
    "    #outlier_pcd.paint_uniform_color([1, 0, 0]) # red\n",
    "    #inlier_pcd.paint_uniform_color([0.6, 0.6, 0.6]) # gray\n",
    "    #o3d.visualization.draw_geometries([inlier_pcd, outlier_pcd])"
   ]
  },
  {
   "cell_type": "code",
   "execution_count": 4,
   "id": "f7ccad2e",
   "metadata": {},
   "outputs": [],
   "source": [
    "# remove outliers\n",
    "pcd, ind = pcd.remove_radius_outlier(nb_points=16, radius=0.02)\n",
    "#display_inliers_outliers(pcd, ind)"
   ]
  },
  {
   "cell_type": "code",
   "execution_count": 6,
   "id": "5c5c0fb9",
   "metadata": {},
   "outputs": [
    {
     "data": {
      "text/plain": [
       "True"
      ]
     },
     "execution_count": 6,
     "metadata": {},
     "output_type": "execute_result"
    }
   ],
   "source": [
    "# save processed pcd to file\n",
    "import os\n",
    "os.makedirs('../data/preprocessed/', exist_ok=True)\n",
    "o3d.io.write_point_cloud('../data/preprocessed/'+file_name, pcd)"
   ]
  },
  {
   "cell_type": "code",
   "execution_count": null,
   "id": "4067ce4d-9ed2-49dc-82a9-0bca50f840e6",
   "metadata": {},
   "outputs": [],
   "source": []
  }
 ],
 "metadata": {
  "kernelspec": {
   "display_name": "Python 3 (ipykernel)",
   "language": "python",
   "name": "python3"
  },
  "language_info": {
   "codemirror_mode": {
    "name": "ipython",
    "version": 3
   },
   "file_extension": ".py",
   "mimetype": "text/x-python",
   "name": "python",
   "nbconvert_exporter": "python",
   "pygments_lexer": "ipython3",
   "version": "3.10.12"
  }
 },
 "nbformat": 4,
 "nbformat_minor": 5
}
