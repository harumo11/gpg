{
 "cells": [
  {
   "cell_type": "code",
   "execution_count": 1,
   "id": "6d46dd14-0649-405a-a568-4890257827fd",
   "metadata": {},
   "outputs": [
    {
     "name": "stdout",
     "output_type": "stream",
     "text": [
      "Jupyter environment detected. Enabling Open3D WebVisualizer.\n",
      "[Open3D INFO] WebRTC GUI backend enabled.\n",
      "[Open3D INFO] WebRTCWindowSystem: HTTP handshake server disabled.\n"
     ]
    }
   ],
   "source": [
    "import open3d as o3d\n",
    "import numpy as np"
   ]
  },
  {
   "cell_type": "code",
   "execution_count": null,
   "id": "258179fd-a354-41dd-b056-084caf7dca3a",
   "metadata": {},
   "outputs": [],
   "source": [
    "class Gripper:\n",
    "    def __init__(self, len_x, len_y, len_z):\n",
    "        self._closure_volume_size = np.array([len_x, len_y, len_z])\n",
    "        self._transforms = self._create_transforms(finger_size=[0.01, len_y, len_z], palm_size=[len_x, len_y, 0.01])\n",
    "        self._meshes = self._create_meshes(finger_size=[0.01, len_y, len_z], palm_size=[len_x, len_y, 0.01])\n",
    "\n",
    "    def _create_transforms(self, finger_size, palm_size):\n",
    "        transforms = {}\n",
    "        transforms['tip_palm'] = np.eye(4)\n",
    "        transforms['tip_right_finger'] = np.eye(4)\n",
    "        transforms['tip_left_finger'] = np.eye(4)\n",
    "        transforms['closure_volume'] = np.eye(4)\n",
    "\n",
    "        # Palm transform\n",
    "        transforms['tip_palm'][0, 3] = -palm_size[0] / 2\n",
    "        transforms['tip_palm'][1, 3] = -palm_size[1] / 2\n",
    "        transforms['tip_palm'][2, 3] = -finger_size[2] - palm_size[2]\n",
    "\n",
    "        # Right finger transform\n",
    "        transforms['tip_right_finger'][0, 3] = palm_size[0] / 2 - finger_size[0]\n",
    "        transforms['tip_right_finger'][1, 3] = -palm_size[1] / 2\n",
    "        transforms['tip_right_finger'][2, 3] = -finger_size[2]\n",
    "\n",
    "        # Left finger transform\n",
    "        transforms['tip_left_finger'][0, 3] = -palm_size[0] / 2\n",
    "        transforms['tip_left_finger'][1, 3] = -palm_size[1] / 2\n",
    "        transforms['tip_left_finger'][2, 3] = -finger_size[2]\n",
    "\n",
    "        # Closure volume transform\n",
    "        transforms['closure_volume'][0, 3] = -palm_size[0] / 2 + finger_size[0]\n",
    "        transforms['closure_volume'][1, 3] = -palm_size[1]\n",
    "        transforms['closure_volume'][2, 3] = -finger_size[2]\n",
    "\n",
    "        return transforms\n",
    "    \n",
    "    def check_collision(self, points: o3d.geometry.PointCloud, threshold: float = 0.01) -> bool:\n",
    "        \"\"\"\n",
    "        Check if the points in the point cloud are within the closure volume of the gripper.\n",
    "        \"\"\"\n",
    "        closure_volume = self._transforms['closure_volume']\n",
    "        closure_volume_size = self._closure_volume_size\n",
    "        \n",
    "        # Calculate the bounds of the closure volume\n",
    "        min_bounds = closure_volume[:3, 3] - closure_volume_size / 2\n",
    "        max_bounds = closure_volume[:3, 3] + closure_volume_size / 2\n",
    "        \n",
    "        # Check if any point is within the bounds\n",
    "        for point in points.points:\n",
    "            if (min_bounds <= point).all() and (point <= max_bounds).all():\n",
    "                return True\n",
    "        return False\n",
    "\n",
    "    def _create_meshes(self, finger_size, palm_size):\n",
    "        meshes = {}\n",
    "        \n",
    "        right_finger_mesh = o3d.geometry.TriangleMesh.create_box(finger_size[0], finger_size[1], finger_size[2], True)\n",
    "        right_finger_mesh.translate(self._transforms['tip_right_finger'][:3, 3])\n",
    "        right_finger_mesh.paint_uniform_color([0.1, 0.4, 0.8])\n",
    "        meshes['right_finger'] = right_finger_mesh\n",
    "\n",
    "        left_finger_mesh = o3d.geometry.TriangleMesh.create_box(finger_size[0], finger_size[1], finger_size[2])\n",
    "        left_finger_mesh.translate(self._transforms['tip_left_finger'][:3, 3])\n",
    "        left_finger_mesh.paint_uniform_color([0.5, 0.1, 0.6])\n",
    "        meshes['left_finger'] = left_finger_mesh\n",
    "\n",
    "        palm_mesh = o3d.geometry.TriangleMesh.create_box(palm_size[0], palm_size[1], palm_size[2])\n",
    "        palm_mesh.translate(self._transforms['tip_palm'][:3, 3])\n",
    "        palm_mesh.paint_uniform_color([0.4, 0.1, 0.3])\n",
    "        meshes['palm'] = palm_mesh\n",
    "\n",
    "        frame_mesh = o3d.geometry.TriangleMesh.create_coordinate_frame()\n",
    "        frame_mesh = frame_mesh.scale(0.1, center=[0,0,0])\n",
    "        meshes['frame'] = frame_mesh\n",
    "\n",
    "        return meshes\n",
    "\n",
    "    @property\n",
    "    def meshes(self):\n",
    "        return list(self._meshes.values())\n"
   ]
  },
  {
   "cell_type": "code",
   "execution_count": 19,
   "id": "0577243f-7ea9-4c0e-8ef8-a04b46b59eb2",
   "metadata": {},
   "outputs": [],
   "source": [
    "gripper = Gripper(0.05, 0.03, 0.05)\n",
    "meshes = gripper.meshes\n",
    "o3d.visualization.draw_geometries(meshes)"
   ]
  },
  {
   "cell_type": "code",
   "execution_count": null,
   "id": "8bfbbee9-d15a-4037-a48c-c5c622f722f1",
   "metadata": {},
   "outputs": [
    {
     "data": {
      "text/plain": [
       "4"
      ]
     },
     "execution_count": 4,
     "metadata": {},
     "output_type": "execute_result"
    }
   ],
   "source": [
    "len(meshes)"
   ]
  },
  {
   "cell_type": "code",
   "execution_count": null,
   "id": "7d5f0f46-4a0b-4dd3-8929-d62537994f46",
   "metadata": {},
   "outputs": [],
   "source": []
  }
 ],
 "metadata": {
  "kernelspec": {
   "display_name": ".venv",
   "language": "python",
   "name": "python3"
  },
  "language_info": {
   "codemirror_mode": {
    "name": "ipython",
    "version": 3
   },
   "file_extension": ".py",
   "mimetype": "text/x-python",
   "name": "python",
   "nbconvert_exporter": "python",
   "pygments_lexer": "ipython3",
   "version": "3.10.12"
  }
 },
 "nbformat": 4,
 "nbformat_minor": 5
}
