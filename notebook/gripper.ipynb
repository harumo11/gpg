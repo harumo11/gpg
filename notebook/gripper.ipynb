{
 "cells": [
  {
   "cell_type": "code",
   "execution_count": 1,
   "id": "6d46dd14-0649-405a-a568-4890257827fd",
   "metadata": {},
   "outputs": [
    {
     "name": "stdout",
     "output_type": "stream",
     "text": [
      "Jupyter environment detected. Enabling Open3D WebVisualizer.\n",
      "[Open3D INFO] WebRTC GUI backend enabled.\n",
      "[Open3D INFO] WebRTCWindowSystem: HTTP handshake server disabled.\n"
     ]
    }
   ],
   "source": [
    "import open3d as o3d\n",
    "import numpy as np"
   ]
  },
  {
   "cell_type": "code",
   "execution_count": 94,
   "id": "258179fd-a354-41dd-b056-084caf7dca3a",
   "metadata": {},
   "outputs": [],
   "source": [
    "class Gripper:\n",
    "    def __init__(self, len_x, len_y, len_z):\n",
    "        self._closure_volume = np.array([len_x, len_y, len_z])\n",
    "        self._transform = np.ndarray([])\n",
    "        self._meshes = self._create_meshes(finger_side=[0.01, len_y, len_z], palm_side=[len_x, len_y, 0.01])\n",
    "\n",
    "    def _create_meshes(self, finger_side, palm_side):\n",
    "        meshes = {}\n",
    "        \n",
    "        right_finger_mesh = o3d.geometry.TriangleMesh.create_box(finger_side[0], finger_side[1], finger_side[2], True)\n",
    "        right_finger_mesh.translate([palm_side[0]/2 - finger_side[0], -palm_side[1]/2, 0])\n",
    "        right_finger_mesh.paint_uniform_color([0.1, 0.4, 0.8])\n",
    "        meshes['right_finger'] = right_finger_mesh\n",
    "\n",
    "        left_finger_mesh = o3d.geometry.TriangleMesh.create_box(finger_side[0], finger_side[1], finger_side[2])\n",
    "        left_finger_mesh.translate([-palm_side[0]/2, -palm_side[1]/2, 0])\n",
    "        left_finger_mesh.paint_uniform_color([0.5, 0.1, 0.6])\n",
    "        meshes['left_finger'] = left_finger_mesh\n",
    "\n",
    "        palm_mesh = o3d.geometry.TriangleMesh.create_box(palm_side[0], palm_side[1], palm_side[2])\n",
    "        palm_mesh.translate([-palm_side[0]/2, -palm_side[1]/2, -palm_side[2]])\n",
    "        palm_mesh.paint_uniform_color([0.4, 0.1, 0.3])\n",
    "        meshes['palm'] = palm_mesh\n",
    "\n",
    "        frame_mesh = o3d.geometry.TriangleMesh.create_coordinate_frame()\n",
    "        frame_mesh = frame_mesh.scale(0.1, center=[0,0,0])\n",
    "        meshes['frame'] = frame_mesh\n",
    "\n",
    "        return meshes\n",
    "\n",
    "    @property\n",
    "    def meshes(self):\n",
    "        return list(self._meshes.values())\n"
   ]
  },
  {
   "cell_type": "code",
   "execution_count": 95,
   "id": "0577243f-7ea9-4c0e-8ef8-a04b46b59eb2",
   "metadata": {},
   "outputs": [],
   "source": [
    "gripper = Gripper(0.05, 0.03, 0.05)\n",
    "meshes = gripper.meshes\n",
    "o3d.visualization.draw_geometries(meshes)"
   ]
  },
  {
   "cell_type": "code",
   "execution_count": 28,
   "id": "8bfbbee9-d15a-4037-a48c-c5c622f722f1",
   "metadata": {},
   "outputs": [
    {
     "data": {
      "text/plain": [
       "0"
      ]
     },
     "execution_count": 28,
     "metadata": {},
     "output_type": "execute_result"
    }
   ],
   "source": [
    "len(meshes)"
   ]
  },
  {
   "cell_type": "code",
   "execution_count": null,
   "id": "7d5f0f46-4a0b-4dd3-8929-d62537994f46",
   "metadata": {},
   "outputs": [],
   "source": []
  }
 ],
 "metadata": {
  "kernelspec": {
   "display_name": "Python 3 (ipykernel)",
   "language": "python",
   "name": "python3"
  },
  "language_info": {
   "codemirror_mode": {
    "name": "ipython",
    "version": 3
   },
   "file_extension": ".py",
   "mimetype": "text/x-python",
   "name": "python",
   "nbconvert_exporter": "python",
   "pygments_lexer": "ipython3",
   "version": "3.10.12"
  }
 },
 "nbformat": 4,
 "nbformat_minor": 5
}
