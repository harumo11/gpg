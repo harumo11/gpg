{
 "cells": [
  {
   "cell_type": "code",
   "execution_count": 1,
   "id": "5105f470-7e74-4a2e-9929-c864d834f658",
   "metadata": {},
   "outputs": [],
   "source": [
    "# added path\n",
    "import sys\n",
    "import os\n",
    "\n",
    "sys.path.append(os.path.abspath('..'))"
   ]
  },
  {
   "cell_type": "code",
   "execution_count": 2,
   "id": "5350ed5c-64a8-4e40-9b4d-ec1b41a8c7c5",
   "metadata": {},
   "outputs": [
    {
     "name": "stdout",
     "output_type": "stream",
     "text": [
      "Jupyter environment detected. Enabling Open3D WebVisualizer.\n",
      "[Open3D INFO] WebRTC GUI backend enabled.\n",
      "[Open3D INFO] WebRTCWindowSystem: HTTP handshake server disabled.\n"
     ]
    }
   ],
   "source": [
    "import open3d as o3d"
   ]
  },
  {
   "cell_type": "code",
   "execution_count": 3,
   "id": "f7a44a58-1214-430a-accd-fdfccd907595",
   "metadata": {},
   "outputs": [],
   "source": [
    "from gpg.preprocess import Preprocess"
   ]
  },
  {
   "cell_type": "code",
   "execution_count": 4,
   "id": "9feefd5f-9787-49f9-9a15-7100bd18392e",
   "metadata": {},
   "outputs": [],
   "source": [
    "# load ply\n",
    "pcd = o3d.io.read_point_cloud('../data/desk_angledview.ply')"
   ]
  },
  {
   "cell_type": "code",
   "execution_count": 5,
   "id": "b994e6a5-014a-433e-879f-1841e233623a",
   "metadata": {},
   "outputs": [],
   "source": [
    "o3d.visualization.draw_geometries([pcd])"
   ]
  },
  {
   "cell_type": "code",
   "execution_count": 6,
   "id": "a9ae3825-afa1-4c9a-8c94-04d7f649aabc",
   "metadata": {},
   "outputs": [],
   "source": [
    "# preprocess\n",
    "preprocess = Preprocess()\n",
    "preprocessed_pcd, removed_indices = preprocess(pcd)"
   ]
  },
  {
   "cell_type": "code",
   "execution_count": 7,
   "id": "0504bc71-265f-452e-99e3-39e3c47a8790",
   "metadata": {},
   "outputs": [],
   "source": [
    "o3d.visualization.draw_geometries([preprocessed_pcd])"
   ]
  },
  {
   "cell_type": "code",
   "execution_count": 8,
   "id": "2c489783-f104-4f40-bd20-3c96d8fd807a",
   "metadata": {},
   "outputs": [],
   "source": [
    "# vertex normal estimation\n",
    "preprocessed_pcd.estimate_normals(\n",
    "    search_param=o3d.geometry.KDTreeSearchParamHybrid(radius=0.1, max_nn=30)\n",
    ")"
   ]
  },
  {
   "cell_type": "code",
   "execution_count": 9,
   "id": "fb194732-f328-4f42-bd62-b46bc18dd1f4",
   "metadata": {},
   "outputs": [],
   "source": [
    "# To display normals, type n key. Normals gets shorten by type - key\n",
    "o3d.visualization.draw_geometries([preprocessed_pcd])"
   ]
  },
  {
   "cell_type": "code",
   "execution_count": 10,
   "id": "7a7c1d61-55d3-4792-a7ae-d077b6b43484",
   "metadata": {},
   "outputs": [
    {
     "name": "stdout",
     "output_type": "stream",
     "text": [
      "Print a normal vector of the 0th point\n",
      "[-0.08708295  0.57307426  0.81486345]\n"
     ]
    }
   ],
   "source": [
    "print('Print a normal vector of the 0th point')\n",
    "print(preprocessed_pcd.normals[0])"
   ]
  },
  {
   "cell_type": "code",
   "execution_count": 11,
   "id": "cd949f1f-76a1-46fc-bcb2-4c332edcfb7b",
   "metadata": {},
   "outputs": [
    {
     "name": "stdout",
     "output_type": "stream",
     "text": [
      "Print the normal vectors of the first 10 points\n",
      "[[-0.08708295  0.57307426  0.81486345]\n",
      " [-0.20870645  0.48252378  0.85065411]\n",
      " [ 0.01088229  0.38999275  0.92075362]\n",
      " [ 0.01076836  0.39294729  0.91949794]\n",
      " [ 0.00492892  0.39180641  0.92003448]\n",
      " [-0.00597328  0.3983213   0.91722651]\n",
      " [ 0.01117813  0.3957075   0.91830857]\n",
      " [ 0.09806167  0.42949112  0.89773119]\n",
      " [ 0.14268844  0.42256279  0.89503112]\n",
      " [ 0.17255408  0.41358418  0.89396489]]\n"
     ]
    }
   ],
   "source": [
    "# convert normals to numpy\n",
    "import numpy as np\n",
    "print('Print the normal vectors of the first 10 points')\n",
    "print(np.asarray(preprocessed_pcd.normals)[:10, :])"
   ]
  },
  {
   "cell_type": "code",
   "execution_count": 12,
   "id": "bf87bf55-f6f7-4a5f-9427-62359870e14a",
   "metadata": {},
   "outputs": [],
   "source": [
    "# segment plane\n",
    "plane_model, inliers = preprocessed_pcd.segment_plane(distance_threshold=0.005, ransac_n=10, num_iterations=50)"
   ]
  },
  {
   "cell_type": "code",
   "execution_count": 13,
   "id": "38488d58-adfc-4160-a8cc-bd2c2aa942f7",
   "metadata": {},
   "outputs": [],
   "source": [
    "plane_cloud = preprocessed_pcd.select_by_index(inliers)\n",
    "plane_cloud.paint_uniform_color([1.0, 0.0, 0.0])\n",
    "outlier_cloud = preprocessed_pcd.select_by_index(inliers, invert=True)\n",
    "o3d.visualization.draw_geometries([plane_cloud, outlier_cloud])"
   ]
  },
  {
   "cell_type": "code",
   "execution_count": 27,
   "id": "405139b4-02d1-45f4-9288-131907475171",
   "metadata": {},
   "outputs": [],
   "source": [
    "# segmentation (bdscan)\n",
    "import numpy as np\n",
    "import matplotlib.pyplot as plt\n",
    "\n",
    "labels = np.array(outlier_cloud.cluster_dbscan(eps=0.01, min_points=30))\n",
    "max_label = labels.max()\n",
    "colors = plt.get_cmap('tab20')(labels/max(max_label, 1))\n",
    "colors[labels < 0] = 0\n",
    "outlier_cloud.colors = o3d.utility.Vector3dVector(colors[:, :3])\n",
    "o3d.visualization.draw_geometries([outlier_cloud])"
   ]
  },
  {
   "cell_type": "code",
   "execution_count": 45,
   "id": "c606b6c6-3031-46bc-a603-942b0fad4a42",
   "metadata": {},
   "outputs": [],
   "source": [
    "c = 0\n",
    "for i in labels:\n",
    "    if i == 3:\n",
    "        c += 1"
   ]
  },
  {
   "cell_type": "code",
   "execution_count": 46,
   "id": "4640b1bf-0f37-4120-8d97-00677dfa5d45",
   "metadata": {},
   "outputs": [
    {
     "data": {
      "text/plain": [
       "1939"
      ]
     },
     "execution_count": 46,
     "metadata": {},
     "output_type": "execute_result"
    }
   ],
   "source": [
    "c"
   ]
  },
  {
   "cell_type": "code",
   "execution_count": null,
   "id": "20a15801-b1f6-4780-97d3-937b1071afeb",
   "metadata": {},
   "outputs": [],
   "source": []
  }
 ],
 "metadata": {
  "kernelspec": {
   "display_name": "Python 3 (ipykernel)",
   "language": "python",
   "name": "python3"
  },
  "language_info": {
   "codemirror_mode": {
    "name": "ipython",
    "version": 3
   },
   "file_extension": ".py",
   "mimetype": "text/x-python",
   "name": "python",
   "nbconvert_exporter": "python",
   "pygments_lexer": "ipython3",
   "version": "3.12.3"
  }
 },
 "nbformat": 4,
 "nbformat_minor": 5
}
