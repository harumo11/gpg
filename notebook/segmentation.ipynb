{
 "cells": [
  {
   "cell_type": "code",
   "execution_count": 1,
   "id": "5105f470-7e74-4a2e-9929-c864d834f658",
   "metadata": {},
   "outputs": [],
   "source": [
    "# added path\n",
    "import sys\n",
    "import os\n",
    "\n",
    "sys.path.append(os.path.abspath('..'))"
   ]
  },
  {
   "cell_type": "code",
   "execution_count": 2,
   "id": "5350ed5c-64a8-4e40-9b4d-ec1b41a8c7c5",
   "metadata": {},
   "outputs": [
    {
     "name": "stdout",
     "output_type": "stream",
     "text": [
      "Jupyter environment detected. Enabling Open3D WebVisualizer.\n",
      "[Open3D INFO] WebRTC GUI backend enabled.\n",
      "[Open3D INFO] WebRTCWindowSystem: HTTP handshake server disabled.\n"
     ]
    }
   ],
   "source": [
    "import open3d as o3d"
   ]
  },
  {
   "cell_type": "code",
   "execution_count": 3,
   "id": "f7a44a58-1214-430a-accd-fdfccd907595",
   "metadata": {},
   "outputs": [],
   "source": [
    "from gpg.preprocess import Preprocess"
   ]
  },
  {
   "cell_type": "code",
   "execution_count": 4,
   "id": "9feefd5f-9787-49f9-9a15-7100bd18392e",
   "metadata": {},
   "outputs": [],
   "source": [
    "# load ply\n",
    "pcd = o3d.io.read_point_cloud('../data/desk_topview.ply')"
   ]
  },
  {
   "cell_type": "code",
   "execution_count": 5,
   "id": "b994e6a5-014a-433e-879f-1841e233623a",
   "metadata": {},
   "outputs": [],
   "source": [
    "o3d.visualization.draw_geometries([pcd])"
   ]
  },
  {
   "cell_type": "code",
   "execution_count": 6,
   "id": "a9ae3825-afa1-4c9a-8c94-04d7f649aabc",
   "metadata": {},
   "outputs": [],
   "source": [
    "# preprocess\n",
    "preprocess = Preprocess()\n",
    "preprocessed_pcd, removed_indices = preprocess(pcd)"
   ]
  },
  {
   "cell_type": "code",
   "execution_count": 11,
   "id": "0504bc71-265f-452e-99e3-39e3c47a8790",
   "metadata": {},
   "outputs": [],
   "source": [
    "o3d.visualization.draw_geometries([preprocessed_pcd])"
   ]
  },
  {
   "cell_type": "code",
   "execution_count": 13,
   "id": "2c489783-f104-4f40-bd20-3c96d8fd807a",
   "metadata": {},
   "outputs": [],
   "source": [
    "# vertex normal estimation\n",
    "preprocessed_pcd.estimate_normals(\n",
    "    search_param=o3d.geometry.KDTreeSearchParamHybrid(radius=0.1, max_nn=30)\n",
    ")"
   ]
  },
  {
   "cell_type": "code",
   "execution_count": 14,
   "id": "fb194732-f328-4f42-bd62-b46bc18dd1f4",
   "metadata": {},
   "outputs": [],
   "source": [
    "# To display normals, type n key. Normals gets shorten by type - key\n",
    "o3d.visualization.draw_geometries([preprocessed_pcd])"
   ]
  },
  {
   "cell_type": "code",
   "execution_count": 15,
   "id": "7a7c1d61-55d3-4792-a7ae-d077b6b43484",
   "metadata": {},
   "outputs": [
    {
     "name": "stdout",
     "output_type": "stream",
     "text": [
      "Print a normal vector of the 0th point\n",
      "[-0.3973446   0.33685403  0.85360801]\n"
     ]
    }
   ],
   "source": [
    "print('Print a normal vector of the 0th point')\n",
    "print(preprocessed_pcd.normals[0])"
   ]
  },
  {
   "cell_type": "code",
   "execution_count": 21,
   "id": "cd949f1f-76a1-46fc-bcb2-4c332edcfb7b",
   "metadata": {},
   "outputs": [
    {
     "name": "stdout",
     "output_type": "stream",
     "text": [
      "Print the normal vectors of the first 10 points\n",
      "[[-0.3973446   0.33685403  0.85360801]\n",
      " [-0.41516614  0.32541654  0.8495535 ]\n",
      " [-0.44485564  0.26669588  0.85497179]\n",
      " [-0.38808797  0.23084866  0.89224247]\n",
      " [-0.11097698  0.00424373  0.99381392]\n",
      " [-0.03304845 -0.04470374  0.99845349]\n",
      " [ 0.03891919 -0.05651887  0.99764268]\n",
      " [ 0.05551362 -0.05321337  0.9970389 ]\n",
      " [ 0.08708094 -0.01116027  0.99613872]\n",
      " [-0.31609339  0.06078867  0.94677859]]\n"
     ]
    }
   ],
   "source": [
    "# convert normals to numpy\n",
    "import numpy as np\n",
    "print('Print the normal vectors of the first 10 points')\n",
    "print(np.asarray(preprocessed_pcd.normals)[:10, :])"
   ]
  },
  {
   "cell_type": "code",
   "execution_count": 22,
   "id": "d19a8c5a-aa0b-4b8d-b481-103ab033a7fe",
   "metadata": {},
   "outputs": [
    {
     "name": "stdout",
     "output_type": "stream",
     "text": [
      "[Open3D INFO] Downloading https://github.com/isl-org/open3d_downloads/releases/download/20220201-data/DemoCropPointCloud.zip\n",
      "[Open3D INFO] Downloaded to /home/harumo/open3d_data/download/DemoCropPointCloud/DemoCropPointCloud.zip\n",
      "[Open3D INFO] Created directory /home/harumo/open3d_data/extract/DemoCropPointCloud.\n",
      "[Open3D INFO] Extracting /home/harumo/open3d_data/download/DemoCropPointCloud/DemoCropPointCloud.zip.\n",
      "[Open3D INFO] Extracted to /home/harumo/open3d_data/extract/DemoCropPointCloud.\n"
     ]
    }
   ],
   "source": [
    "# crop point cloud\n",
    "demo_crop_data = o3d.data.DemoCropPointCloud()\n",
    "pcd = o3d.io.read_point_cloud(demo_crop_data.point_cloud_path)"
   ]
  },
  {
   "cell_type": "code",
   "execution_count": 25,
   "id": "a0dce907-d332-49bf-9a56-3abede8c676e",
   "metadata": {},
   "outputs": [],
   "source": [
    "vol = o3d.visualization.read_selection_polygon_volume(demo_crop_data.cropped_json_path)"
   ]
  },
  {
   "cell_type": "code",
   "execution_count": 26,
   "id": "be97d172-aed1-43b5-88e9-ae9cf17510df",
   "metadata": {},
   "outputs": [],
   "source": [
    "chair = vol.crop_point_cloud(pcd)"
   ]
  },
  {
   "cell_type": "code",
   "execution_count": 29,
   "id": "85c687cc-4c61-45c7-aa1b-744aa944de2a",
   "metadata": {},
   "outputs": [],
   "source": [
    "o3d.visualization.draw_geometries([pcd])"
   ]
  },
  {
   "cell_type": "code",
   "execution_count": null,
   "id": "3d57ad57-3c3f-4ae3-a1c6-46644e22dbca",
   "metadata": {},
   "outputs": [],
   "source": [
    "dists = pcd.compute_point_cloud_distance(chair)"
   ]
  }
 ],
 "metadata": {
  "kernelspec": {
   "display_name": "Python 3 (ipykernel)",
   "language": "python",
   "name": "python3"
  },
  "language_info": {
   "codemirror_mode": {
    "name": "ipython",
    "version": 3
   },
   "file_extension": ".py",
   "mimetype": "text/x-python",
   "name": "python",
   "nbconvert_exporter": "python",
   "pygments_lexer": "ipython3",
   "version": "3.10.12"
  }
 },
 "nbformat": 4,
 "nbformat_minor": 5
}
