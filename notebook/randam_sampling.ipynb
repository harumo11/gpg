{
 "cells": [
  {
   "cell_type": "code",
   "execution_count": 2,
   "id": "dea42afd",
   "metadata": {},
   "outputs": [],
   "source": [
    "import open3d as o3d\n",
    "import numpy as np"
   ]
  },
  {
   "cell_type": "code",
   "execution_count": 3,
   "id": "9b547834",
   "metadata": {},
   "outputs": [],
   "source": [
    "def sample_random_points(pcd: o3d.geometry.PointCloud, N: int):\n",
    "    \"\"\"\n",
    "    Sample N random points from a point cloud.\n",
    "\n",
    "    Parameters\n",
    "    ----------\n",
    "    pcd : o3d.geometry.PointCloud\n",
    "        The input point cloud from which to sample points.\n",
    "    N : int\n",
    "        The number of random points to sample.\n",
    "    \"\"\"\n",
    "\n",
    "    # Check if the point cloud has enough points\n",
    "    if len(pcd.points) < N:\n",
    "        raise ValueError(\"The point cloud has fewer points than requested for sampling.\")\n",
    "\n",
    "    # Randomly sample N indices from the point cloud\n",
    "    indices = np.random.choice(len(pcd.points), size=N, replace=False)\n",
    "\n",
    "    # Select the sampled points using the indices\n",
    "    sampled_points = pcd.select_by_index(indices)\n",
    "\n",
    "    return sampled_points"
   ]
  },
  {
   "cell_type": "code",
   "execution_count": 6,
   "id": "27ba7e96",
   "metadata": {},
   "outputs": [],
   "source": [
    "# test of sample_random_points\n",
    "\n",
    "## Load a point cloud\n",
    "pcd = o3d.io.read_point_cloud('../data/segmented/remote_controller.ply')\n",
    "\n",
    "## Sample 100 random points from the point cloud\n",
    "N = 100\n",
    "sampled_pcd = sample_random_points(pcd, N)\n",
    "\n",
    "## Show the result\n",
    "sampled_pcd.paint_uniform_color([1, 0, 0])  # Paint sampled points red\n",
    "o3d.visualization.draw_geometries([pcd, sampled_pcd])\n"
   ]
  },
  {
   "cell_type": "code",
   "execution_count": 9,
   "id": "b72e0c3b",
   "metadata": {},
   "outputs": [
    {
     "data": {
      "text/plain": [
       "True"
      ]
     },
     "execution_count": 9,
     "metadata": {},
     "output_type": "execute_result"
    }
   ],
   "source": [
    "# save random sampled points\n",
    "o3d.io.write_point_cloud('../data/segmented/remote_controller_random_sampled.ply', sampled_pcd)"
   ]
  },
  {
   "cell_type": "code",
   "execution_count": null,
   "id": "c5cf1726",
   "metadata": {},
   "outputs": [],
   "source": []
  },
  {
   "cell_type": "code",
   "execution_count": null,
   "id": "36ff2cbf",
   "metadata": {},
   "outputs": [],
   "source": []
  }
 ],
 "metadata": {
  "kernelspec": {
   "display_name": ".venv",
   "language": "python",
   "name": "python3"
  },
  "language_info": {
   "codemirror_mode": {
    "name": "ipython",
    "version": 3
   },
   "file_extension": ".py",
   "mimetype": "text/x-python",
   "name": "python",
   "nbconvert_exporter": "python",
   "pygments_lexer": "ipython3",
   "version": "3.10.12"
  }
 },
 "nbformat": 4,
 "nbformat_minor": 5
}
